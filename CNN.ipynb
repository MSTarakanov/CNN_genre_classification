{
 "cells": [
  {
   "cell_type": "markdown",
   "metadata": {},
   "source": [
    "# Интеллектуальная обработка данных"
   ]
  },
  {
   "cell_type": "markdown",
   "metadata": {},
   "source": [
    "Подключение нужных инструментов"
   ]
  },
  {
   "cell_type": "code",
   "execution_count": 8,
   "metadata": {},
   "outputs": [],
   "source": [
    "#основные библиотеки\n",
    "import os\n",
    "import numpy as np\n",
    "import matplotlib.pyplot as plt\n",
    "from PIL import Image\n",
    "#ML библиотеки\n",
    "from sklearn.model_selection import train_test_split\n",
    "import cv2\n",
    "#библиотека для обработки аудио\n",
    "import tensorflow\n",
    "import librosa\n",
    "import librosa.display\n",
    "import IPython.display as ipd\n",
    "#дополнитеьлные инструменты\n",
    "from tqdm import tqdm\n",
    "import pylab"
   ]
  },
  {
   "cell_type": "markdown",
   "metadata": {},
   "source": [
    "### Описание датасета"
   ]
  },
  {
   "cell_type": "code",
   "execution_count": 17,
   "metadata": {},
   "outputs": [
    {
     "data": {
      "text/plain": [
       "['blues',\n",
       " 'classical',\n",
       " 'country',\n",
       " 'disco',\n",
       " 'hiphop',\n",
       " 'jazz',\n",
       " 'metal',\n",
       " 'pop',\n",
       " 'reggae',\n",
       " 'rock']"
      ]
     },
     "execution_count": 17,
     "metadata": {},
     "output_type": "execute_result"
    }
   ],
   "source": [
    "DIRS = os.listdir('./data/')\n",
    "DIRS"
   ]
  },
  {
   "cell_type": "markdown",
   "metadata": {},
   "source": [
    "### Визуализация аудиоинформации в mel-спектрограммы"
   ]
  },
  {
   "cell_type": "code",
   "execution_count": 39,
   "metadata": {},
   "outputs": [],
   "source": [
    "def read_wav_file(path, preprocess=True): \n",
    "    \"\"\"Reads wav file and cuts it to 3 10-seconds long parts\n",
    "    \n",
    "    path: path to file\n",
    "    preprocess: if True, apply: y(t) = x(t) − α ∗ x(t−1);\n",
    "    where α is set to 0.97 in order to boost higher frequencies\n",
    "    \n",
    "    Returns: list of signals as np.arrays and sample rate as int\n",
    "    \"\"\"\n",
    "    y, sr = librosa.load(path)\n",
    "    if preprocess:\n",
    "        x = y.copy()\n",
    "        z = y[1:] - 0.97 * x[:-1]\n",
    "        y = z\n",
    "        \n",
    "    signals = []\n",
    "    for signal_id in range(3):\n",
    "        signals.append(z[signal_id*sr*10:(signal_id+1)*sr*10])\n",
    "    return signals, sr\n",
    "\n",
    "\n",
    "def create_spectrogram(z, sr, save_path):\n",
    "    \"\"\"Saves signal as MEL-spectrogram\n",
    "    \n",
    "    z: signal (np.array)\n",
    "    sr: sample rate (usually 22050)\n",
    "    save_path: MEL-spectrogram save path\n",
    "    \"\"\"\n",
    "    #matplotlib.use('Agg')    #uncomment this line when in *.py file extension\n",
    "    pylab.axis('off')\n",
    "    pylab.axes([0., 0., 1., 1.], frameon=False, xticks=[], yticks=[])\n",
    "    S = librosa.feature.melspectrogram(y=z, sr=sr)\n",
    "    librosa.display.specshow(librosa.power_to_db(S, ref=np.max))\n",
    "    pylab.savefig(save_path, bbox_inches=None, pad_inches=0)\n",
    "    pylab.close()\n",
    "    \n",
    "    \n",
    "def resize_image(path):    \n",
    "    \"\"\"\n",
    "    Loads image, resizes and saves it to the same path\n",
    "    \"\"\"\n",
    "    SIZE = 224, 224\n",
    "    im = Image.open(path)\n",
    "    resized_im = im.resize(SIZE)\n",
    "    resized_im.save(path)\n",
    "\n",
    "def full_preprocess(path, save_path):\n",
    "    \"\"\"\n",
    "    Full preprocess of audio file\n",
    "    \"\"\"\n",
    "    y, sr = read_wav_file(path)\n",
    "    idx = 0\n",
    "    for signal_id in y:\n",
    "        save_to = save_path + '_' + str(idx) + '.jpg'\n",
    "        create_spectrogram(signal_id, sr, save_to)\n",
    "        resize_image(save_to)\n",
    "        idx += 1\n",
    "        \n",
    "def prepare_dataset(path='./'):\n",
    "    \"\"\"\n",
    "    Creates spectograms for all audio files in dataset and separates them into\n",
    "    'train' and 'test' folders\n",
    "    \"\"\"\n",
    "    if 'mels' not in os.listdir():\n",
    "        os.mkdir('./' + 'mels')\n",
    "    \n",
    "    genres = os.listdir(path + '/data')\n",
    "    for genre in genres:\n",
    "        if genre not in ('./' + 'mels'):\n",
    "            os.mkdir('./' + 'mels' + '/' + genre)\n",
    "        audios = os.listdir(path + '/data/' + genre)\n",
    "        audios_amount = len(audios)\n",
    "        id_audio = 0\n",
    "        for id_audio in tqdm(range(audios_amount)):\n",
    "            folder = './mels/'\n",
    "            full_preprocess(path + '/data/' + genre + '/' + audios[id_audio], \\\n",
    "                            folder + genre + '/' + audios[id_audio][:-3] + '.jpg')"
   ]
  },
  {
   "cell_type": "code",
   "execution_count": 40,
   "metadata": {
    "scrolled": true
   },
   "outputs": [
    {
     "name": "stderr",
     "output_type": "stream",
     "text": [
      "100%|████████████████████████████████████████████████████████████████████████████████| 100/100 [00:40<00:00,  2.47it/s]\n",
      "100%|████████████████████████████████████████████████████████████████████████████████| 100/100 [00:42<00:00,  2.34it/s]\n",
      "100%|████████████████████████████████████████████████████████████████████████████████| 100/100 [00:45<00:00,  2.19it/s]\n",
      "100%|████████████████████████████████████████████████████████████████████████████████| 100/100 [00:49<00:00,  2.02it/s]\n",
      "100%|████████████████████████████████████████████████████████████████████████████████| 100/100 [00:49<00:00,  2.01it/s]\n",
      "100%|████████████████████████████████████████████████████████████████████████████████| 100/100 [00:56<00:00,  1.76it/s]\n",
      "100%|████████████████████████████████████████████████████████████████████████████████| 100/100 [00:50<00:00,  1.99it/s]\n",
      "100%|████████████████████████████████████████████████████████████████████████████████| 100/100 [00:45<00:00,  2.18it/s]\n",
      "100%|████████████████████████████████████████████████████████████████████████████████| 100/100 [00:54<00:00,  1.84it/s]\n",
      "100%|████████████████████████████████████████████████████████████████████████████████| 100/100 [00:59<00:00,  1.67it/s]\n"
     ]
    }
   ],
   "source": [
    "prepare_dataset()"
   ]
  },
  {
   "cell_type": "code",
   "execution_count": 41,
   "metadata": {},
   "outputs": [],
   "source": [
    "# проинициализируем два массива, один для изображений, второй для названий\n",
    "images_arr = []\n",
    "labels_arr = []"
   ]
  },
  {
   "cell_type": "code",
   "execution_count": 42,
   "metadata": {},
   "outputs": [],
   "source": [
    "def upload_from_dir(flower_type, DIR):\n",
    "    for img in os.listdir(DIR):\n",
    "        label = flower_type\n",
    "        path = os.path.join(DIR, img)\n",
    "        img = cv2.imread(path, cv2.IMREAD_COLOR)      \n",
    "        images_arr.append(np.array(img))\n",
    "        labels_arr.append(str(label))"
   ]
  },
  {
   "cell_type": "code",
   "execution_count": 43,
   "metadata": {},
   "outputs": [
    {
     "name": "stderr",
     "output_type": "stream",
     "text": [
      "100%|██████████████████████████████████████████████████████████████████████████████████| 10/10 [00:29<00:00,  2.98s/it]\n"
     ]
    }
   ],
   "source": [
    "for DIR in tqdm(DIRS):\n",
    "    upload_from_dir(DIR, './mels/' + DIR)"
   ]
  },
  {
   "cell_type": "markdown",
   "metadata": {},
   "source": [
    "### Нормализация спектрограмм с учетом особенностей человеческого уха"
   ]
  },
  {
   "cell_type": "markdown",
   "metadata": {},
   "source": [
    "### Разделение даты на обучающую и тестовую выборки"
   ]
  },
  {
   "cell_type": "markdown",
   "metadata": {},
   "source": [
    "### Настройка нейронной сети"
   ]
  },
  {
   "cell_type": "markdown",
   "metadata": {},
   "source": [
    "### Обучение "
   ]
  },
  {
   "cell_type": "markdown",
   "metadata": {},
   "source": [
    "### Изменение гиперпараметров сети"
   ]
  },
  {
   "cell_type": "markdown",
   "metadata": {},
   "source": [
    "### Проверка сети на тестовой выборке"
   ]
  },
  {
   "cell_type": "markdown",
   "metadata": {},
   "source": [
    "### Анализ реузльтатов"
   ]
  },
  {
   "cell_type": "code",
   "execution_count": null,
   "metadata": {},
   "outputs": [],
   "source": []
  }
 ],
 "metadata": {
  "kernelspec": {
   "display_name": "Python 3",
   "language": "python",
   "name": "python3"
  },
  "language_info": {
   "codemirror_mode": {
    "name": "ipython",
    "version": 3
   },
   "file_extension": ".py",
   "mimetype": "text/x-python",
   "name": "python",
   "nbconvert_exporter": "python",
   "pygments_lexer": "ipython3",
   "version": "3.8.5"
  }
 },
 "nbformat": 4,
 "nbformat_minor": 4
}
