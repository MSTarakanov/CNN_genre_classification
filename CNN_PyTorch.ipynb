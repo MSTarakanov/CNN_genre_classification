{
  "nbformat": 4,
  "nbformat_minor": 0,
  "metadata": {
    "colab": {
      "name": "CNN_PyTorch.ipynb",
      "provenance": [],
      "collapsed_sections": [],
      "authorship_tag": "ABX9TyOR+wo7QmoAuQ50OQscde03",
      "include_colab_link": true
    },
    "kernelspec": {
      "name": "python3",
      "display_name": "Python 3"
    },
    "language_info": {
      "name": "python"
    },
    "accelerator": "GPU"
  },
  "cells": [
    {
      "cell_type": "markdown",
      "metadata": {
        "id": "view-in-github",
        "colab_type": "text"
      },
      "source": [
        "<a href=\"https://colab.research.google.com/github/MSTarakanov/CNN_genre_classification/blob/master/CNN_PyTorch.ipynb\" target=\"_parent\"><img src=\"https://colab.research.google.com/assets/colab-badge.svg\" alt=\"Open In Colab\"/></a>"
      ]
    },
    {
      "cell_type": "markdown",
      "metadata": {
        "id": "cOZafS8CQMz7"
      },
      "source": [
        "### Подключение основных библиотек"
      ]
    },
    {
      "cell_type": "code",
      "metadata": {
        "id": "3VPRJFNVQMRj"
      },
      "source": [
        "import os\n",
        "import numpy as np\n",
        "import librosa\n",
        "import librosa.display\n",
        "import IPython.display as ipd\n",
        "from PIL import Image\n",
        "import matplotlib\n",
        "import matplotlib.pyplot as plt\n",
        "import pylab"
      ],
      "execution_count": 42,
      "outputs": []
    },
    {
      "cell_type": "markdown",
      "metadata": {
        "id": "LiV-7PsQCOC2"
      },
      "source": [
        "### Импорт файлов с гугл диска"
      ]
    },
    {
      "cell_type": "code",
      "metadata": {
        "colab": {
          "base_uri": "https://localhost:8080/"
        },
        "id": "1_eAnzL0afrk",
        "outputId": "d6a640da-54c1-4cdc-f38a-818747e31733"
      },
      "source": [
        "from google.colab import drive\n",
        "drive.mount('/gdrive')"
      ],
      "execution_count": 43,
      "outputs": [
        {
          "output_type": "stream",
          "text": [
            "Drive already mounted at /gdrive; to attempt to forcibly remount, call drive.mount(\"/gdrive\", force_remount=True).\n"
          ],
          "name": "stdout"
        }
      ]
    },
    {
      "cell_type": "markdown",
      "metadata": {
        "id": "T5xwInnCCjOW"
      },
      "source": [
        "#### Проверка, что монтирование прошла успешно"
      ]
    },
    {
      "cell_type": "code",
      "metadata": {
        "colab": {
          "base_uri": "https://localhost:8080/"
        },
        "id": "-glcybmMcGiB",
        "outputId": "bb68c335-9b17-4f4a-d185-03d750f39194"
      },
      "source": [
        "DIRS = os.listdir('/gdrive/My Drive/Colab Notebooks/')\n",
        "DIRS"
      ],
      "execution_count": 44,
      "outputs": [
        {
          "output_type": "execute_result",
          "data": {
            "text/plain": [
              "['Untitled0.ipynb',\n",
              " 'CNN.ipynb',\n",
              " 'IDP.ipynb',\n",
              " 'final.pt',\n",
              " 'train',\n",
              " 'test',\n",
              " 'CNN_PyTorch.ipynb']"
            ]
          },
          "metadata": {
            "tags": []
          },
          "execution_count": 44
        }
      ]
    },
    {
      "cell_type": "markdown",
      "metadata": {
        "id": "FHv-TmhCQbTO"
      },
      "source": [
        "### Работа с PyTorch"
      ]
    },
    {
      "cell_type": "markdown",
      "metadata": {
        "id": "do1I6yQVOR1t"
      },
      "source": [
        "Была выбрана библиотека PyTorch, так как в ней присутствует модель остаточной сверточной нейронной сети \"ResNet 34\", которая идеально подходит для распознавания изображений "
      ]
    },
    {
      "cell_type": "markdown",
      "metadata": {
        "id": "ji5Lqs_5QfqF"
      },
      "source": [
        "#### Подключение фреймворка"
      ]
    },
    {
      "cell_type": "code",
      "metadata": {
        "colab": {
          "base_uri": "https://localhost:8080/"
        },
        "id": "2um-TpNCQAZW",
        "outputId": "33a6495b-f67c-4be5-c02c-12167f3433c7"
      },
      "source": [
        "from __future__ import print_function \n",
        "from __future__ import division\n",
        "import torch\n",
        "import torch.nn as nn\n",
        "import torch.optim as optim\n",
        "import torchvision\n",
        "from torchvision import datasets, models, transforms\n",
        "import time\n",
        "import copy\n",
        "print(\"Версия PyTorch: \", torch.__version__)\n",
        "print(\"Версия Torchvision: \", torchvision.__version__)"
      ],
      "execution_count": 45,
      "outputs": [
        {
          "output_type": "stream",
          "text": [
            "Версия PyTorch:  1.8.1+cu101\n",
            "Версия Torchvision:  0.9.1+cu101\n"
          ],
          "name": "stdout"
        }
      ]
    },
    {
      "cell_type": "markdown",
      "metadata": {
        "id": "jprToXAFTUNW"
      },
      "source": [
        "#### Определим основные переменные и некоторые гиперпараметры сети, такие как:\n",
        "- Число классов\n",
        "- Размер батча\n",
        "- Число эпох"
      ]
    },
    {
      "cell_type": "code",
      "metadata": {
        "id": "GyqItUK1S3Wc"
      },
      "source": [
        "data_dir = '/gdrive/My Drive/Colab Notebooks/'\n",
        "model_name = 'resnet'\n",
        "num_classes = 10\n",
        "batch_size = 8\n",
        "num_epochs = 15\n",
        "feature_extract = False"
      ],
      "execution_count": 46,
      "outputs": []
    },
    {
      "cell_type": "markdown",
      "metadata": {
        "id": "B8FkULeoVdUl"
      },
      "source": [
        "#### Функция для обучения модели"
      ]
    },
    {
      "cell_type": "code",
      "metadata": {
        "id": "e54hfbCDUr4D"
      },
      "source": [
        "def train_model(model, dataloaders, criterion, optimizer, num_epochs=25, is_inception=False):\n",
        "    since = time.time()\n",
        "\n",
        "    val_acc_history = []\n",
        "    \n",
        "    best_model_wts = copy.deepcopy(model.state_dict())                           # копируем параметры обученной нейронной сети\n",
        "    best_acc = 0.0                                                             \n",
        "\n",
        "    for epoch in range(num_epochs):\n",
        "        print('Эпоха {}/{}'.format(epoch, num_epochs - 1))\n",
        "        print('-' * 10)\n",
        "\n",
        "        for phase in ['train', 'test']:                                          \n",
        "            if phase == 'train':\n",
        "                model.train()                                                    \n",
        "            else:\n",
        "                model.eval()\n",
        "\n",
        "            running_loss = 0.0\n",
        "            running_corrects = 0\n",
        "\n",
        "            for inputs, labels in dataloaders[phase]:\n",
        "                inputs = inputs.to(device)\n",
        "                labels = labels.to(device)\n",
        "\n",
        "                optimizer.zero_grad()\n",
        "\n",
        "                with torch.set_grad_enabled(phase == 'train'):\n",
        "                    if is_inception and phase == 'train':\n",
        "                        outputs, aux_outputs = model(inputs)\n",
        "                        loss1 = criterion(outputs, labels)\n",
        "                        loss2 = criterion(aux_outputs, labels)\n",
        "                        loss = loss1 + 0.4*loss2\n",
        "                    else:\n",
        "                        outputs = model(inputs)\n",
        "                        loss = criterion(outputs, labels)\n",
        "\n",
        "                    _, preds = torch.max(outputs, 1)\n",
        "\n",
        "                    if phase == 'train':\n",
        "                        loss.backward()\n",
        "                        optimizer.step()\n",
        "\n",
        "                running_loss += loss.item() * inputs.size(0)\n",
        "                running_corrects += torch.sum(preds == labels.data)\n",
        "\n",
        "            epoch_loss = running_loss / len(dataloaders[phase].dataset)\n",
        "            epoch_acc = running_corrects.double() / len(dataloaders[phase].dataset)\n",
        "\n",
        "            print('Данные: {:6s} Значение фунцкии потерь: {:.4f} Точность: {:.4f}'.format(phase, epoch_loss, epoch_acc))\n",
        "\n",
        "            if phase == 'test' and epoch_acc > best_acc:\n",
        "                best_acc = epoch_acc\n",
        "                best_model_wts = copy.deepcopy(model.state_dict())\n",
        "            if phase == 'test':\n",
        "                val_acc_history.append(epoch_acc)\n",
        "\n",
        "        print()\n",
        "\n",
        "    time_elapsed = time.time() - since\n",
        "    print('Обучение закончено за {:.0f}м {:.0f}с'.format(time_elapsed // 60, time_elapsed % 60))\n",
        "    print('Лучшая точность: {:4f}'.format(best_acc))\n",
        "\n",
        "    model.load_state_dict(best_model_wts)\n",
        "    return model, val_acc_history"
      ],
      "execution_count": 47,
      "outputs": []
    },
    {
      "cell_type": "markdown",
      "metadata": {
        "id": "141TjV7vVrDR"
      },
      "source": [
        "##### Функции для инициализации модели и начала работы с моделью ResNet 34"
      ]
    },
    {
      "cell_type": "code",
      "metadata": {
        "id": "0Ze6HUVbVsB7"
      },
      "source": [
        "def set_parameter_requires_grad(model, feature_extracting):\n",
        "    if feature_extracting:\n",
        "        for param in model.parameters():\n",
        "            param.requires_grad = False\n",
        "def initialize_model(model_name, num_classes, feature_extract, use_pretrained=True):\n",
        "    \"\"\"\n",
        "    Функция для инициализация модели\n",
        "    принимает на вход имя сети, число классов\n",
        "    Также, мы указали, что не хотим переобучать всю сеть, а хотим использовать преобученную ResNet34 \n",
        "    \"\"\"\n",
        "    model_ft = None\n",
        "    input_size = 0\n",
        "    \n",
        "    if model_name == \"resnet\":\n",
        "        \"\"\" RESNET 34\n",
        "        \"\"\"\n",
        "        model_ft = models.resnet34(pretrained=use_pretrained)\n",
        "        set_parameter_requires_grad(model_ft, feature_extract)\n",
        "        num_ftrs = model_ft.fc.in_features\n",
        "        model_ft.fc = nn.Linear(num_ftrs, num_classes)\n",
        "        input_size = 224\n",
        "    \n",
        "    return model_ft, input_size"
      ],
      "execution_count": 48,
      "outputs": []
    },
    {
      "cell_type": "markdown",
      "metadata": {
        "id": "croxInGbXNB1"
      },
      "source": [
        "#### Инициализация модели"
      ]
    },
    {
      "cell_type": "code",
      "metadata": {
        "id": "wBL5pSbdWBN7"
      },
      "source": [
        "model_ft, input_size = initialize_model(model_name, num_classes, feature_extract, use_pretrained=True)"
      ],
      "execution_count": 49,
      "outputs": []
    },
    {
      "cell_type": "markdown",
      "metadata": {
        "id": "h4SfpQRwXgM9"
      },
      "source": [
        "#### Представление датасета в виде матрицы и нормализация данных"
      ]
    },
    {
      "cell_type": "code",
      "metadata": {
        "colab": {
          "base_uri": "https://localhost:8080/"
        },
        "id": "rvrxBP4JXfqY",
        "outputId": "a0c66fa4-ab83-4487-a67d-3ca92e6dac88"
      },
      "source": [
        "data_transforms = {\n",
        "    'train': transforms.Compose([\n",
        "        transforms.ToTensor(),\n",
        "        transforms.Normalize([0.485, 0.456, 0.406], [0.229, 0.224, 0.225])\n",
        "    ]),\n",
        "    'test': transforms.Compose([\n",
        "        transforms.ToTensor(),\n",
        "        transforms.Normalize([0.485, 0.456, 0.406], [0.229, 0.224, 0.225])\n",
        "    ]),\n",
        "}\n",
        "\n",
        "image_datasets = {x: datasets.ImageFolder(os.path.join(data_dir, x), data_transforms[x]) for x in ['train', 'test']}\n",
        "\n",
        "dataloaders_dict = {x: torch.utils.data.DataLoader(image_datasets[x], batch_size=batch_size, shuffle=True, num_workers=4) for x in ['train', 'test']}\n",
        "\n"
      ],
      "execution_count": 50,
      "outputs": [
        {
          "output_type": "stream",
          "text": [
            "/usr/local/lib/python3.7/dist-packages/torch/utils/data/dataloader.py:477: UserWarning: This DataLoader will create 4 worker processes in total. Our suggested max number of worker in current system is 2, which is smaller than what this DataLoader is going to create. Please be aware that excessive worker creation might get DataLoader running slow or even freeze, lower the worker number to avoid potential slowness/freeze if necessary.\n",
            "  cpuset_checked))\n"
          ],
          "name": "stderr"
        }
      ]
    },
    {
      "cell_type": "markdown",
      "metadata": {
        "id": "Q11vPA42_xN7"
      },
      "source": [
        "#### Выбор ресурсов для обучения модели (предпочтительно GPU)"
      ]
    },
    {
      "cell_type": "code",
      "metadata": {
        "id": "8sGsAz1q_uFK"
      },
      "source": [
        "device = torch.device(\"cuda:0\" if torch.cuda.is_available() else \"cpu\")\n",
        "\n",
        "model_ft = model_ft.to(device)"
      ],
      "execution_count": 51,
      "outputs": []
    },
    {
      "cell_type": "markdown",
      "metadata": {
        "id": "W5drqoHI_-G6"
      },
      "source": [
        "Параметры в модели, которые можно и нужно обновлять при нашем обучении,\n",
        "так как мы взяли уже обученную большую модель ResNet 34 и мы ее __до__обучаем:"
      ]
    },
    {
      "cell_type": "code",
      "metadata": {
        "colab": {
          "base_uri": "https://localhost:8080/"
        },
        "id": "Op1GPaS2XjXF",
        "outputId": "2ac7b9f8-bd87-43f3-8a62-b8eb65cef0f8"
      },
      "source": [
        "params_to_update = model_ft.parameters()\n",
        "print(\"Параметры для обучения:\")\n",
        "if feature_extract:\n",
        "    params_to_update = []\n",
        "    for name,param in model_ft.named_parameters():\n",
        "        if param.requires_grad == True:\n",
        "            params_to_update.append(param)\n",
        "            print(\"\\t\",name)\n",
        "else:\n",
        "    for name,param in model_ft.named_parameters():\n",
        "        if param.requires_grad == True:\n",
        "            print(\"\\t\",name)"
      ],
      "execution_count": 52,
      "outputs": [
        {
          "output_type": "stream",
          "text": [
            "Параметры для обучения:\n",
            "\t conv1.weight\n",
            "\t bn1.weight\n",
            "\t bn1.bias\n",
            "\t layer1.0.conv1.weight\n",
            "\t layer1.0.bn1.weight\n",
            "\t layer1.0.bn1.bias\n",
            "\t layer1.0.conv2.weight\n",
            "\t layer1.0.bn2.weight\n",
            "\t layer1.0.bn2.bias\n",
            "\t layer1.1.conv1.weight\n",
            "\t layer1.1.bn1.weight\n",
            "\t layer1.1.bn1.bias\n",
            "\t layer1.1.conv2.weight\n",
            "\t layer1.1.bn2.weight\n",
            "\t layer1.1.bn2.bias\n",
            "\t layer1.2.conv1.weight\n",
            "\t layer1.2.bn1.weight\n",
            "\t layer1.2.bn1.bias\n",
            "\t layer1.2.conv2.weight\n",
            "\t layer1.2.bn2.weight\n",
            "\t layer1.2.bn2.bias\n",
            "\t layer2.0.conv1.weight\n",
            "\t layer2.0.bn1.weight\n",
            "\t layer2.0.bn1.bias\n",
            "\t layer2.0.conv2.weight\n",
            "\t layer2.0.bn2.weight\n",
            "\t layer2.0.bn2.bias\n",
            "\t layer2.0.downsample.0.weight\n",
            "\t layer2.0.downsample.1.weight\n",
            "\t layer2.0.downsample.1.bias\n",
            "\t layer2.1.conv1.weight\n",
            "\t layer2.1.bn1.weight\n",
            "\t layer2.1.bn1.bias\n",
            "\t layer2.1.conv2.weight\n",
            "\t layer2.1.bn2.weight\n",
            "\t layer2.1.bn2.bias\n",
            "\t layer2.2.conv1.weight\n",
            "\t layer2.2.bn1.weight\n",
            "\t layer2.2.bn1.bias\n",
            "\t layer2.2.conv2.weight\n",
            "\t layer2.2.bn2.weight\n",
            "\t layer2.2.bn2.bias\n",
            "\t layer2.3.conv1.weight\n",
            "\t layer2.3.bn1.weight\n",
            "\t layer2.3.bn1.bias\n",
            "\t layer2.3.conv2.weight\n",
            "\t layer2.3.bn2.weight\n",
            "\t layer2.3.bn2.bias\n",
            "\t layer3.0.conv1.weight\n",
            "\t layer3.0.bn1.weight\n",
            "\t layer3.0.bn1.bias\n",
            "\t layer3.0.conv2.weight\n",
            "\t layer3.0.bn2.weight\n",
            "\t layer3.0.bn2.bias\n",
            "\t layer3.0.downsample.0.weight\n",
            "\t layer3.0.downsample.1.weight\n",
            "\t layer3.0.downsample.1.bias\n",
            "\t layer3.1.conv1.weight\n",
            "\t layer3.1.bn1.weight\n",
            "\t layer3.1.bn1.bias\n",
            "\t layer3.1.conv2.weight\n",
            "\t layer3.1.bn2.weight\n",
            "\t layer3.1.bn2.bias\n",
            "\t layer3.2.conv1.weight\n",
            "\t layer3.2.bn1.weight\n",
            "\t layer3.2.bn1.bias\n",
            "\t layer3.2.conv2.weight\n",
            "\t layer3.2.bn2.weight\n",
            "\t layer3.2.bn2.bias\n",
            "\t layer3.3.conv1.weight\n",
            "\t layer3.3.bn1.weight\n",
            "\t layer3.3.bn1.bias\n",
            "\t layer3.3.conv2.weight\n",
            "\t layer3.3.bn2.weight\n",
            "\t layer3.3.bn2.bias\n",
            "\t layer3.4.conv1.weight\n",
            "\t layer3.4.bn1.weight\n",
            "\t layer3.4.bn1.bias\n",
            "\t layer3.4.conv2.weight\n",
            "\t layer3.4.bn2.weight\n",
            "\t layer3.4.bn2.bias\n",
            "\t layer3.5.conv1.weight\n",
            "\t layer3.5.bn1.weight\n",
            "\t layer3.5.bn1.bias\n",
            "\t layer3.5.conv2.weight\n",
            "\t layer3.5.bn2.weight\n",
            "\t layer3.5.bn2.bias\n",
            "\t layer4.0.conv1.weight\n",
            "\t layer4.0.bn1.weight\n",
            "\t layer4.0.bn1.bias\n",
            "\t layer4.0.conv2.weight\n",
            "\t layer4.0.bn2.weight\n",
            "\t layer4.0.bn2.bias\n",
            "\t layer4.0.downsample.0.weight\n",
            "\t layer4.0.downsample.1.weight\n",
            "\t layer4.0.downsample.1.bias\n",
            "\t layer4.1.conv1.weight\n",
            "\t layer4.1.bn1.weight\n",
            "\t layer4.1.bn1.bias\n",
            "\t layer4.1.conv2.weight\n",
            "\t layer4.1.bn2.weight\n",
            "\t layer4.1.bn2.bias\n",
            "\t layer4.2.conv1.weight\n",
            "\t layer4.2.bn1.weight\n",
            "\t layer4.2.bn1.bias\n",
            "\t layer4.2.conv2.weight\n",
            "\t layer4.2.bn2.weight\n",
            "\t layer4.2.bn2.bias\n",
            "\t fc.weight\n",
            "\t fc.bias\n"
          ],
          "name": "stdout"
        }
      ]
    },
    {
      "cell_type": "markdown",
      "metadata": {
        "id": "9Q_tB6tXEBtQ"
      },
      "source": [
        "#### Выбор гиперпарамеров нейронной сети, таких как\n",
        "- Метод оптимизации\n",
        "- Коэффициент скорости обучения (уменьшается с каждым шагом обучения)\n",
        "- Функция потерь"
      ]
    },
    {
      "cell_type": "code",
      "metadata": {
        "id": "_1T4oCUQXv-I"
      },
      "source": [
        "optimizer_ft = optim.Adam(params_to_update, lr=0.00001)\n",
        "exp_lr_scheduler = optim.lr_scheduler.StepLR(optimizer_ft, step_size=2, gamma=0.1)\n",
        "criterion = nn.CrossEntropyLoss()"
      ],
      "execution_count": 53,
      "outputs": []
    },
    {
      "cell_type": "markdown",
      "metadata": {
        "id": "gPDPY3nIFM5e"
      },
      "source": [
        "#### Обучение нейронной сети"
      ]
    },
    {
      "cell_type": "code",
      "metadata": {
        "colab": {
          "base_uri": "https://localhost:8080/"
        },
        "id": "qWMPw7maX4rF",
        "outputId": "73695588-2f78-40ef-aec9-aaf7a3fb5d99"
      },
      "source": [
        "model_ft, hist = train_model(model_ft, dataloaders_dict, criterion, optimizer_ft, num_epochs=num_epochs, is_inception=(model_name==\"inception\"))"
      ],
      "execution_count": 56,
      "outputs": [
        {
          "output_type": "stream",
          "text": [
            "Эпоха 0/14\n",
            "----------\n"
          ],
          "name": "stdout"
        },
        {
          "output_type": "stream",
          "text": [
            "/usr/local/lib/python3.7/dist-packages/torch/utils/data/dataloader.py:477: UserWarning: This DataLoader will create 4 worker processes in total. Our suggested max number of worker in current system is 2, which is smaller than what this DataLoader is going to create. Please be aware that excessive worker creation might get DataLoader running slow or even freeze, lower the worker number to avoid potential slowness/freeze if necessary.\n",
            "  cpuset_checked))\n"
          ],
          "name": "stderr"
        },
        {
          "output_type": "stream",
          "text": [
            "Данные: train  Значение фунцкии потерь: 0.0656 Точность: 0.9921\n",
            "Данные: test   Значение фунцкии потерь: 1.2266 Точность: 0.6700\n",
            "\n",
            "Эпоха 1/14\n",
            "----------\n",
            "Данные: train  Значение фунцкии потерь: 0.0564 Точность: 0.9921\n",
            "Данные: test   Значение фунцкии потерь: 1.2241 Точность: 0.6667\n",
            "\n",
            "Эпоха 2/14\n",
            "----------\n",
            "Данные: train  Значение фунцкии потерь: 0.0582 Точность: 0.9942\n",
            "Данные: test   Значение фунцкии потерь: 1.2794 Точность: 0.6700\n",
            "\n",
            "Эпоха 3/14\n",
            "----------\n",
            "Данные: train  Значение фунцкии потерь: 0.0362 Точность: 0.9958\n",
            "Данные: test   Значение фунцкии потерь: 1.2867 Точность: 0.6733\n",
            "\n",
            "Эпоха 4/14\n",
            "----------\n",
            "Данные: train  Значение фунцкии потерь: 0.0347 Точность: 0.9967\n",
            "Данные: test   Значение фунцкии потерь: 1.2580 Точность: 0.6983\n",
            "\n",
            "Эпоха 5/14\n",
            "----------\n",
            "Данные: train  Значение фунцкии потерь: 0.0299 Точность: 0.9967\n",
            "Данные: test   Значение фунцкии потерь: 1.2248 Точность: 0.7050\n",
            "\n",
            "Эпоха 6/14\n",
            "----------\n",
            "Данные: train  Значение фунцкии потерь: 0.0248 Точность: 0.9992\n",
            "Данные: test   Значение фунцкии потерь: 1.3865 Точность: 0.6617\n",
            "\n",
            "Эпоха 7/14\n",
            "----------\n",
            "Данные: train  Значение фунцкии потерь: 0.0290 Точность: 0.9971\n",
            "Данные: test   Значение фунцкии потерь: 1.2834 Точность: 0.6700\n",
            "\n",
            "Эпоха 8/14\n",
            "----------\n",
            "Данные: train  Значение фунцкии потерь: 0.0263 Точность: 0.9971\n",
            "Данные: test   Значение фунцкии потерь: 1.3247 Точность: 0.6933\n",
            "\n",
            "Эпоха 9/14\n",
            "----------\n",
            "Данные: train  Значение фунцкии потерь: 0.0277 Точность: 0.9971\n",
            "Данные: test   Значение фунцкии потерь: 1.2865 Точность: 0.6867\n",
            "\n",
            "Эпоха 10/14\n",
            "----------\n",
            "Данные: train  Значение фунцкии потерь: 0.0238 Точность: 0.9967\n",
            "Данные: test   Значение фунцкии потерь: 1.3203 Точность: 0.6850\n",
            "\n",
            "Эпоха 11/14\n",
            "----------\n",
            "Данные: train  Значение фунцкии потерь: 0.0225 Точность: 0.9971\n",
            "Данные: test   Значение фунцкии потерь: 1.5716 Точность: 0.6483\n",
            "\n",
            "Эпоха 12/14\n",
            "----------\n",
            "Данные: train  Значение фунцкии потерь: 0.0178 Точность: 0.9988\n",
            "Данные: test   Значение фунцкии потерь: 1.3058 Точность: 0.6850\n",
            "\n",
            "Эпоха 13/14\n",
            "----------\n",
            "Данные: train  Значение фунцкии потерь: 0.0202 Точность: 0.9967\n",
            "Данные: test   Значение фунцкии потерь: 1.3542 Точность: 0.6667\n",
            "\n",
            "Эпоха 14/14\n",
            "----------\n",
            "Данные: train  Значение фунцкии потерь: 0.0141 Точность: 0.9992\n",
            "Данные: test   Значение фунцкии потерь: 1.3279 Точность: 0.6917\n",
            "\n",
            "Обучение закончено за 5м 50с\n",
            "Лучшая точность: 0.705000\n"
          ],
          "name": "stdout"
        }
      ]
    },
    {
      "cell_type": "markdown",
      "metadata": {
        "id": "qvsdT1lGH7hp"
      },
      "source": [
        "#### Вывод результатов обучения"
      ]
    },
    {
      "cell_type": "code",
      "metadata": {
        "colab": {
          "base_uri": "https://localhost:8080/",
          "height": 295
        },
        "id": "t659HXvkX9Ie",
        "outputId": "d85d9dec-6cd2-4dbc-a36c-2bfe8eae20e3"
      },
      "source": [
        "ohist = [h.cpu().numpy() for h in hist]\n",
        "plt.title(\"Точность - Номер эпохи обучения\")\n",
        "plt.xlabel(\"Эпоха обучения\")\n",
        "plt.ylabel(\"Точность\")\n",
        "plt.plot(range(1,num_epochs+1),ohist,label=\"Преобученая ResNet 34\")\n",
        "plt.ylim((0,1.))\n",
        "plt.xticks(np.arange(1, num_epochs+1, 1.0))\n",
        "plt.legend()\n",
        "plt.show()"
      ],
      "execution_count": 57,
      "outputs": [
        {
          "output_type": "display_data",
          "data": {
            "image/png": "[encoded data removed]",
            "text/plain": [
              "<Figure size 432x288 with 1 Axes>"
            ]
          },
          "metadata": {
            "tags": [],
            "needs_background": "light"
          }
        }
      ]
    },
    {
      "cell_type": "markdown",
      "metadata": {
        "id": "hpDW3EjWBWx0"
      },
      "source": [
        "#### Сохранение лучшей модели (всех ее параметров) на гугл диск"
      ]
    },
    {
      "cell_type": "code",
      "metadata": {
        "id": "XYv9MZsrYAMC"
      },
      "source": [
        "torch.save(model_ft, '/gdrive/My Drive/Colab Notebooks/final.pt')"
      ],
      "execution_count": 55,
      "outputs": []
    },
    {
      "cell_type": "code",
      "metadata": {
        "id": "G5oUIfLfNu_H"
      },
      "source": [
        ""
      ],
      "execution_count": null,
      "outputs": []
    }
  ]
}